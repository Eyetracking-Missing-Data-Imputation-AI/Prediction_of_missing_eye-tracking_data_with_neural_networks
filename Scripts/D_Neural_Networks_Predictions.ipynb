{
 "cells": [
  {
   "cell_type": "markdown",
   "id": "9f6a2fa1",
   "metadata": {},
   "source": [
    "#### Prediction of missing eye tracking data with neural networks\n",
    "Lucas D. Haberkamp<sup>1,2,3</sup>, Michael D. Reddix<sup>1</sup>\n",
    "\n",
    "<sup>1</sup>Naval Medical Research Unit - Dayton  \n",
    "<sup>2</sup>Oak Ridge Institute for Science and Education  \n",
    "<sup>3</sup>Leidos   \n",
    "\n",
    "---\n",
    "\n",
    "This script generates predictions for the point of gaze with the trained temporal convolutional network model (Script B) and classification predictions with the trained classifier model (Script C)"
   ]
  },
  {
   "cell_type": "code",
   "execution_count": 1,
   "id": "5b9e56d9",
   "metadata": {},
   "outputs": [],
   "source": [
    "import numpy as np\n",
    "import matplotlib.pyplot as plt\n",
    "import pandas as pd\n",
    "import os\n",
    "from sklearn.preprocessing import MinMaxScaler\n",
    "import tensorflow as tf"
   ]
  },
  {
   "cell_type": "code",
   "execution_count": 2,
   "id": "644dc014",
   "metadata": {},
   "outputs": [
    {
     "name": "stdout",
     "output_type": "stream",
     "text": [
      "WARNING:tensorflow:SavedModel saved prior to TF 2.5 detected when loading Keras model. Please ensure that you are saving the model with model.save() or tf.keras.models.save_model(), *NOT* tf.saved_model.save(). To confirm, there should be a file named \"keras_metadata.pb\" in the SavedModel directory.\n"
     ]
    }
   ],
   "source": [
    "# load the keras models\n",
    "tcn = tf.keras.models.load_model(\"../Models/TCN\")\n",
    "classifier = tf.keras.models.load_model(\"../Models/Classifier\")"
   ]
  },
  {
   "cell_type": "code",
   "execution_count": 3,
   "id": "70a47bd5",
   "metadata": {},
   "outputs": [],
   "source": [
    "# Set paths for data which was used to scale the training dataset\n",
    "scale_x_path = '../Data/Prep/train/trainx/P01_trainx.csv'\n",
    "scale_y_path = '../Data/Prep/train/trainy-regression/P01_trainyreg.csv'"
   ]
  },
  {
   "cell_type": "code",
   "execution_count": 4,
   "id": "8a494fe8",
   "metadata": {},
   "outputs": [
    {
     "data": {
      "text/html": [
       "<style>#sk-container-id-1 {color: black;background-color: white;}#sk-container-id-1 pre{padding: 0;}#sk-container-id-1 div.sk-toggleable {background-color: white;}#sk-container-id-1 label.sk-toggleable__label {cursor: pointer;display: block;width: 100%;margin-bottom: 0;padding: 0.3em;box-sizing: border-box;text-align: center;}#sk-container-id-1 label.sk-toggleable__label-arrow:before {content: \"▸\";float: left;margin-right: 0.25em;color: #696969;}#sk-container-id-1 label.sk-toggleable__label-arrow:hover:before {color: black;}#sk-container-id-1 div.sk-estimator:hover label.sk-toggleable__label-arrow:before {color: black;}#sk-container-id-1 div.sk-toggleable__content {max-height: 0;max-width: 0;overflow: hidden;text-align: left;background-color: #f0f8ff;}#sk-container-id-1 div.sk-toggleable__content pre {margin: 0.2em;color: black;border-radius: 0.25em;background-color: #f0f8ff;}#sk-container-id-1 input.sk-toggleable__control:checked~div.sk-toggleable__content {max-height: 200px;max-width: 100%;overflow: auto;}#sk-container-id-1 input.sk-toggleable__control:checked~label.sk-toggleable__label-arrow:before {content: \"▾\";}#sk-container-id-1 div.sk-estimator input.sk-toggleable__control:checked~label.sk-toggleable__label {background-color: #d4ebff;}#sk-container-id-1 div.sk-label input.sk-toggleable__control:checked~label.sk-toggleable__label {background-color: #d4ebff;}#sk-container-id-1 input.sk-hidden--visually {border: 0;clip: rect(1px 1px 1px 1px);clip: rect(1px, 1px, 1px, 1px);height: 1px;margin: -1px;overflow: hidden;padding: 0;position: absolute;width: 1px;}#sk-container-id-1 div.sk-estimator {font-family: monospace;background-color: #f0f8ff;border: 1px dotted black;border-radius: 0.25em;box-sizing: border-box;margin-bottom: 0.5em;}#sk-container-id-1 div.sk-estimator:hover {background-color: #d4ebff;}#sk-container-id-1 div.sk-parallel-item::after {content: \"\";width: 100%;border-bottom: 1px solid gray;flex-grow: 1;}#sk-container-id-1 div.sk-label:hover label.sk-toggleable__label {background-color: #d4ebff;}#sk-container-id-1 div.sk-serial::before {content: \"\";position: absolute;border-left: 1px solid gray;box-sizing: border-box;top: 0;bottom: 0;left: 50%;z-index: 0;}#sk-container-id-1 div.sk-serial {display: flex;flex-direction: column;align-items: center;background-color: white;padding-right: 0.2em;padding-left: 0.2em;position: relative;}#sk-container-id-1 div.sk-item {position: relative;z-index: 1;}#sk-container-id-1 div.sk-parallel {display: flex;align-items: stretch;justify-content: center;background-color: white;position: relative;}#sk-container-id-1 div.sk-item::before, #sk-container-id-1 div.sk-parallel-item::before {content: \"\";position: absolute;border-left: 1px solid gray;box-sizing: border-box;top: 0;bottom: 0;left: 50%;z-index: -1;}#sk-container-id-1 div.sk-parallel-item {display: flex;flex-direction: column;z-index: 1;position: relative;background-color: white;}#sk-container-id-1 div.sk-parallel-item:first-child::after {align-self: flex-end;width: 50%;}#sk-container-id-1 div.sk-parallel-item:last-child::after {align-self: flex-start;width: 50%;}#sk-container-id-1 div.sk-parallel-item:only-child::after {width: 0;}#sk-container-id-1 div.sk-dashed-wrapped {border: 1px dashed gray;margin: 0 0.4em 0.5em 0.4em;box-sizing: border-box;padding-bottom: 0.4em;background-color: white;}#sk-container-id-1 div.sk-label label {font-family: monospace;font-weight: bold;display: inline-block;line-height: 1.2em;}#sk-container-id-1 div.sk-label-container {text-align: center;}#sk-container-id-1 div.sk-container {/* jupyter's `normalize.less` sets `[hidden] { display: none; }` but bootstrap.min.css set `[hidden] { display: none !important; }` so we also need the `!important` here to be able to override the default hidden behavior on the sphinx rendered scikit-learn.org. See: https://github.com/scikit-learn/scikit-learn/issues/21755 */display: inline-block !important;position: relative;}#sk-container-id-1 div.sk-text-repr-fallback {display: none;}</style><div id=\"sk-container-id-1\" class=\"sk-top-container\"><div class=\"sk-text-repr-fallback\"><pre>MinMaxScaler()</pre><b>In a Jupyter environment, please rerun this cell to show the HTML representation or trust the notebook. <br />On GitHub, the HTML representation is unable to render, please try loading this page with nbviewer.org.</b></div><div class=\"sk-container\" hidden><div class=\"sk-item\"><div class=\"sk-estimator sk-toggleable\"><input class=\"sk-toggleable__control sk-hidden--visually\" id=\"sk-estimator-id-1\" type=\"checkbox\" checked><label for=\"sk-estimator-id-1\" class=\"sk-toggleable__label sk-toggleable__label-arrow\">MinMaxScaler</label><div class=\"sk-toggleable__content\"><pre>MinMaxScaler()</pre></div></div></div></div></div>"
      ],
      "text/plain": [
       "MinMaxScaler()"
      ]
     },
     "execution_count": 4,
     "metadata": {},
     "output_type": "execute_result"
    }
   ],
   "source": [
    "# Create x and y scaler objects\n",
    "x_scaler = MinMaxScaler()\n",
    "y_scaler = MinMaxScaler()\n",
    "\n",
    "# Read the appropriate files (same ones used to fit the scaler objects during training) and fit the scaler objects\n",
    "scale_x_df = pd.read_csv(scale_x_path)\n",
    "scale_y_df = pd.read_csv(scale_y_path)\n",
    "\n",
    "x_scaler.fit(scale_x_df.values)\n",
    "y_scaler.fit(scale_y_df.values)"
   ]
  },
  {
   "cell_type": "code",
   "execution_count": 5,
   "id": "75e23f8e",
   "metadata": {},
   "outputs": [],
   "source": [
    "# Create 3D tensors for regression predictions\n",
    "def createsequences(curr_x):\n",
    "    x = tf.data.Dataset.from_tensor_slices(curr_x)\n",
    "    x = x.window(window_size, shift=1, drop_remainder=True)\n",
    "    x = x.flat_map(lambda w: w.batch(window_size))\n",
    "    x = x.batch(batch_size).prefetch(1)\n",
    "    return x"
   ]
  },
  {
   "cell_type": "code",
   "execution_count": 6,
   "id": "99539d89",
   "metadata": {
    "scrolled": true
   },
   "outputs": [
    {
     "name": "stdout",
     "output_type": "stream",
     "text": [
      "P01\n",
      "338/338 [==============================] - 18s 45ms/step\n",
      "2700/2700 [==============================] - 2s 890us/step\n",
      "P02\n",
      "322/322 [==============================] - 14s 44ms/step\n",
      "2570/2570 [==============================] - 2s 855us/step\n",
      "P03\n",
      "311/311 [==============================] - 14s 43ms/step\n",
      "2487/2487 [==============================] - 2s 824us/step\n",
      "P04\n",
      "310/310 [==============================] - 13s 43ms/step\n",
      "2476/2476 [==============================] - 2s 864us/step\n",
      "P05\n",
      "332/332 [==============================] - 14s 43ms/step\n",
      "2652/2652 [==============================] - 2s 799us/step\n",
      "P06\n",
      "324/324 [==============================] - 13s 40ms/step\n",
      "2590/2590 [==============================] - 2s 826us/step\n",
      "P07\n",
      "326/326 [==============================] - 14s 43ms/step\n",
      "2606/2606 [==============================] - 2s 815us/step\n",
      "P08\n",
      "304/304 [==============================] - 13s 42ms/step\n",
      "2430/2430 [==============================] - 2s 851us/step\n",
      "P09\n",
      "335/335 [==============================] - 14s 42ms/step\n",
      "2674/2674 [==============================] - 2s 895us/step\n",
      "P10\n",
      "306/306 [==============================] - 13s 44ms/step\n",
      "2444/2444 [==============================] - 2s 841us/step\n",
      "P11\n",
      "332/332 [==============================] - 14s 43ms/step\n",
      "2655/2655 [==============================] - 2s 838us/step\n",
      "P12\n",
      "318/318 [==============================] - 13s 42ms/step\n",
      "2537/2537 [==============================] - 2s 814us/step\n",
      "P13\n",
      "322/322 [==============================] - 13s 42ms/step\n",
      "2573/2573 [==============================] - 2s 840us/step\n",
      "P14\n",
      "325/325 [==============================] - 13s 41ms/step\n",
      "2598/2598 [==============================] - 2s 831us/step\n"
     ]
    }
   ],
   "source": [
    "# path with both training & holdout inputs\n",
    "test_x_path = '../Data/Prep/all/allx/'\n",
    "\n",
    "# columns to output in the final DataFrame\n",
    "out_cols = ['CWI_x', 'CWI_y', 'CWI_z', 'Classification', \n",
    "    'p-accelerometer', 'p-airspeed',\n",
    "    'p-attitude','p-hsi', 'p-altimeter',\n",
    "    'p-verticalspeed','p-alternates', 'p-standby',\n",
    "    'p-engine', 'p-parking','p-flap',\n",
    "    'p-misc-hdd',\n",
    "    'p-kneeboard', 'p-bugeye']\n",
    "\n",
    "window_size = 256\n",
    "batch_size = 256\n",
    "\n",
    "for i, filename in enumerate(os.listdir(test_x_path)):\n",
    "    tmp_file = os.path.splitext(filename)[0][:-5]\n",
    "    print(tmp_file)\n",
    "    f = os.path.join(test_x_path, filename)\n",
    "\n",
    "    tmp_df = pd.read_csv(f) # read the current file\n",
    "\n",
    "    x_scaled = x_scaler.transform(tmp_df.values) # scale the data with MinMaxScaler\n",
    "\n",
    "    x_test = createsequences(x_scaled) # generate sequences with the scaled data\n",
    "\n",
    "    pred = tcn.predict(x_test) # predict the point of gaze\n",
    "\n",
    "    tmp_label = classifier.predict(pred) # classify the predicted point of gaze\n",
    "\n",
    "    tmp_result = y_scaler.inverse_transform(pred) # inverse transform the predicted point of gaze data\n",
    "\n",
    "    # as predictions are autoregressive, no predictions are made for the 1st 31 values\n",
    "    result = np.zeros(shape=(tmp_df.shape[0], 3)) \n",
    "    result[window_size-1:,:] = tmp_result \n",
    "\n",
    "    label = np.zeros(shape=(tmp_df.shape[0], tmp_label.shape[1]))\n",
    "    label[window_size-1:,:] = tmp_label\n",
    "\n",
    "    # the label with the highest probability is assigned as the predicted label\n",
    "    final_label = np.argmax(label, axis=-1).astype('int')\n",
    "    final_label = np.expand_dims(final_label,axis=1)\n",
    "\n",
    "    # concatenate point of gaze, classification, and classification probablities\n",
    "    output = np.concatenate([result, final_label, label], axis=1)\n",
    "\n",
    "    # create a DataFrame and write to a .csv for further analysis\n",
    "    out_df = pd.DataFrame(output, columns=out_cols)\n",
    "    \n",
    "    out_df.to_csv('../Data/Predictions/' + tmp_file + \"_predicted.csv\", index=False)\n"
   ]
  }
 ],
 "metadata": {
  "interpreter": {
   "hash": "7d080166881b4e54330c01c7c798464d68da1aa03721536117721113f4213136"
  },
  "kernelspec": {
   "display_name": "Python 3.7.7 64-bit",
   "language": "python",
   "name": "python3"
  },
  "language_info": {
   "codemirror_mode": {
    "name": "ipython",
    "version": 3
   },
   "file_extension": ".py",
   "mimetype": "text/x-python",
   "name": "python",
   "nbconvert_exporter": "python",
   "pygments_lexer": "ipython3",
   "version": "3.7.7"
  },
  "vscode": {
   "interpreter": {
    "hash": "6eaee8bb16c720efd38a5149a321ecc0a6df516b2c421a256fc4f2fc4417c56d"
   }
  }
 },
 "nbformat": 4,
 "nbformat_minor": 5
}
