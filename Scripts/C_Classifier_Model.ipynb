{
 "cells": [
  {
   "cell_type": "markdown",
   "id": "307c2795",
   "metadata": {},
   "source": [
    "#### Prediction of missing eye tracking data with neural networks\n",
    "Lucas D. Haberkamp<sup>1,2,3</sup>, Michael D. Reddix<sup>1</sup>\n",
    "\n",
    "<sup>1</sup>Naval Medical Research Unit - Dayton  \n",
    "<sup>2</sup>Oak Ridge Institute for Science and Education  \n",
    "<sup>3</sup>Leidos   \n",
    "\n",
    "---\n",
    "\n",
    "This script trains a multi-layer perceptron to classify the gaze label from the 3D point of gaze coordinates."
   ]
  },
  {
   "cell_type": "code",
   "execution_count": null,
   "id": "04776dd2",
   "metadata": {},
   "outputs": [],
   "source": [
    "import numpy as np\n",
    "import matplotlib.pyplot as plt\n",
    "import pandas as pd\n",
    "import os\n",
    "from sklearn.preprocessing import MinMaxScaler\n",
    "import tensorflow as tf\n",
    "from tensorflow.keras.layers import *\n",
    "from tensorflow.keras.models import *\n",
    "from tensorflow.keras.optimizers import Adam\n",
    "from tensorflow.keras.callbacks import EarlyStopping"
   ]
  },
  {
   "cell_type": "markdown",
   "id": "9ddd5d15",
   "metadata": {},
   "source": [
    "\"extractdf\" is a function which reads each file as a dataframe and saves the dataframe to a list and also saves a separate list of the filenames."
   ]
  },
  {
   "cell_type": "code",
   "execution_count": null,
   "id": "14013f63",
   "metadata": {},
   "outputs": [],
   "source": [
    "# fill_nan should be used with classification ground truth data. prevents a nan label.\n",
    "def extractdf(data_path, fill_nan=False):\n",
    "    file_list, df_list = [], [] # initialize lists\n",
    "    for filename in os.listdir(data_path):\n",
    "        f = os.path.join(data_path, filename) \n",
    "        if os.path.isfile(f):\n",
    "            current_file = os.path.splitext(filename)[0].split('_')[0] # get the identifier of the participant from the file\n",
    "            file_list.append(current_file)  \n",
    "            tmp_df = pd.read_csv(f)\n",
    "            if fill_nan == True:\n",
    "                tmp_df = tmp_df.fillna(0)\n",
    "            df_list.append(tmp_df)\n",
    "\n",
    "    return df_list, file_list"
   ]
  },
  {
   "cell_type": "markdown",
   "id": "de054ba0",
   "metadata": {},
   "source": [
    "Extract the training and validation data for each file into separate lists for y_regression and y_classification, respectively."
   ]
  },
  {
   "cell_type": "code",
   "execution_count": null,
   "id": "2fbb707a",
   "metadata": {},
   "outputs": [],
   "source": [
    "# Specify paths\n",
    "trainy_regression_path = '../Data/Prep/train/trainy-regression'\n",
    "trainy_classification_path = '../Data/Prep/train/trainy-classification'\n",
    "\n",
    "valy_regression_path = '../Data/Prep/validation/valy-regression'\n",
    "valy_classification_path = '../Data/Prep/validation/valy-classification'\n",
    "\n",
    "# Extract the data as dataframes stored into lists\n",
    "trainy_regression_list, train_file_list = extractdf(trainy_regression_path)  \n",
    "trainy_classification_list, _ = extractdf(trainy_classification_path, fill_nan=True)\n",
    "\n",
    "valy_regression_list, val_file_list = extractdf(valy_regression_path)\n",
    "valy_classification_list, _ = extractdf(valy_classification_path, fill_nan=True)\n",
    "\n",
    "print(\"Files in the training dataset:\", train_file_list)\n",
    "print(\"Files in the validation dataset:\", val_file_list)"
   ]
  },
  {
   "cell_type": "markdown",
   "id": "e632e048",
   "metadata": {},
   "source": [
    "Intialize separate MinMaxScaler objects for the inputs and outputs. Scales the data between 0 and 1. "
   ]
  },
  {
   "cell_type": "code",
   "execution_count": null,
   "id": "f77a6e0b",
   "metadata": {},
   "outputs": [],
   "source": [
    "y_scaler = MinMaxScaler()\n",
    "\n",
    "# fit data to the first file in the training dataset\n",
    "y_scaler.fit(trainy_regression_list[0].values)"
   ]
  },
  {
   "cell_type": "markdown",
   "id": "58a2d27b",
   "metadata": {},
   "source": [
    "\"batchdata\" is a function to create random batches of data of a specified size for each classification "
   ]
  },
  {
   "cell_type": "code",
   "execution_count": null,
   "id": "7d73224c",
   "metadata": {},
   "outputs": [],
   "source": [
    "def batchdata(y_reg, y_class, batch_size):\n",
    "       \n",
    "    # Initialize a new array for the batch of inputs.\n",
    "    y_reg_batch, y_class_batch = [], []\n",
    "            \n",
    "    for k in range(batch_size):\n",
    "        # Get a random index value.\n",
    "        idx = np.random.randint(y_reg.shape[0])\n",
    "            \n",
    "        y_reg_batch.append(y_reg[idx])\n",
    "        y_class_batch.append(y_class[idx])\n",
    "        \n",
    "    return np.array(y_reg_batch), np.array(y_class_batch)"
   ]
  },
  {
   "cell_type": "markdown",
   "id": "001309fe",
   "metadata": {},
   "source": [
    "\"createsequences\" is a function to create mini-sequences (has no nans), reshaping data for training and evaluating the model"
   ]
  },
  {
   "cell_type": "code",
   "execution_count": null,
   "id": "c622cd16",
   "metadata": {},
   "outputs": [],
   "source": [
    "def createsequences(y_reg_data, y_class_data, class_label):\n",
    "    \n",
    "    # initialize empty lists\n",
    "    y_reg, y_class = [], []\n",
    "    \n",
    "    # extract non-nan sequences that include the classification label\n",
    "    # (e.g., instrument panel, out the window, kneeboard) of interest\n",
    "    for i in range(y_reg_data.shape[0]):\n",
    "        if not np.isnan(y_reg_data[i]).any() and np.any(y_class_data[i] == class_label):\n",
    "            y_reg.append(y_reg_data[i])\n",
    "            y_class.append(y_class_data[i])\n",
    "     \n",
    "    if y_reg:\n",
    "        return np.array(y_reg), np.array(y_class)"
   ]
  },
  {
   "cell_type": "markdown",
   "id": "981031b1",
   "metadata": {},
   "source": [
    "\"finaldataprep\" is a function which integrates the two functions above to prepare the datasets for training the neural network. The function returns 3D numpy arrays for the input, regression outputs, and classification outputs."
   ]
  },
  {
   "cell_type": "code",
   "execution_count": null,
   "id": "e283ba51",
   "metadata": {},
   "outputs": [],
   "source": [
    "def finaldataprep(file_list, y_reg_list, y_class_list):\n",
    "    \n",
    "    # initialize empty lists\n",
    "    y_reg_out, y_class_out = [], []\n",
    "    # loop through the different object classifications and use the createsequences and \n",
    "    # batchdata functions to generate training data\n",
    "    tmp_y_reg_ph, tmp_y_class_ph = [],[]\n",
    "    sequence_size = []\n",
    "\n",
    "    for _, class_label in enumerate(np.unique(y_class_list[0].values)):\n",
    "        print(\"Current label is:\", class_label)\n",
    "        tmp_y_reg, tmp_y_class = [],[]\n",
    "        for i in range(len(file_list)):\n",
    "            y_reg_scaled = y_scaler.transform(y_reg_list[i].values) # MinMax Scale the y-regression data\n",
    "            y_class = y_class_list[i].values\n",
    "            # try to obtain sequences of the data for each file/object classification\n",
    "            try:\n",
    "                y_reg_seq, y_class_seq = createsequences(y_reg_scaled, y_class, class_label)\n",
    "                print(file_list[i], y_reg_seq.shape)\n",
    "\n",
    "                tmp_y_reg.append(y_reg_seq)\n",
    "                tmp_y_class.append(y_class_seq)\n",
    "            except Exception:\n",
    "                print(\"Could not retrieve data for:\", file_list[i])\n",
    "        # concatenate x, y-regression, and y-classififcation lists into numpy arrays\n",
    "        tmp_y_reg_ph.append(np.concatenate(tmp_y_reg, axis=0))\n",
    "        tmp_y_class_ph.append(np.concatenate(tmp_y_class, axis=0))\n",
    "\n",
    "        size_check = np.concatenate(tmp_y_reg, axis=0)\n",
    "        sequence_size.append(size_check.shape[0])\n",
    "\n",
    "    total_batch_size = max(sequence_size)\n",
    "    for i, class_label in enumerate(np.unique(y_class_list[0].values)):\n",
    "        batch_y_reg, batch_y_class = batchdata(tmp_y_reg_ph[i], tmp_y_class_ph[i], total_batch_size)\n",
    "        print(i, \"Train X Overall Shape =\", batch_y_reg.shape,\"\\n\")\n",
    "        y_reg_out.append(batch_y_reg)\n",
    "        y_class_out.append(batch_y_class)\n",
    "            \n",
    "\n",
    "    return (np.concatenate(y_reg_out, axis=0),\n",
    "           np.concatenate(y_class_out, axis=0))"
   ]
  },
  {
   "cell_type": "code",
   "execution_count": null,
   "id": "de5f5b22",
   "metadata": {},
   "outputs": [],
   "source": [
    "print(\"Gathering sequences for the training dataset.\\n\")\n",
    "y_reg_train, y_class_train = finaldataprep(train_file_list, trainy_regression_list, trainy_classification_list)\n",
    "\n",
    "# delete list to free space for memory\n",
    "del trainy_regression_list, trainy_classification_list \n",
    "\n",
    "print(\"Gathering sequences for the validation dataset.\\n\")\n",
    "# concatenate the validation data after selection of random sequences\n",
    "y_reg_val, y_class_val = finaldataprep(val_file_list, valy_regression_list, valy_classification_list)\n",
    "\n",
    "# delete list to free space for memory\n",
    "del valy_regression_list, valy_classification_list "
   ]
  },
  {
   "cell_type": "markdown",
   "id": "b3bd4ab9",
   "metadata": {},
   "source": [
    "Gather stats on the training and validation datasets.   \n",
    "Including:  \n",
    "-Counts for each classification label in the training dataset  \n",
    "-Number of sequences in the training and validation datasets  \n",
    "-Check for missing values in the training and validation datasets  \n",
    "-Check the number of unique classification labels  "
   ]
  },
  {
   "cell_type": "code",
   "execution_count": null,
   "id": "7dde36e9",
   "metadata": {},
   "outputs": [],
   "source": [
    "# count the number of datapoints in the training dataset for the instrument panel, out the window, and kneeboard, respectively.\n",
    "ip_count = np.sum(y_class_train==0)\n",
    "kb_count = np.sum(y_class_train==2)\n",
    "outwin_count = np.sum(y_class_train==1)\n",
    "\n",
    "print(\"Instrument Panel:\", ip_count, \"\\nOut the Window:\", outwin_count, \"\\nKneeboard:\", kb_count)\n",
    "print(\"The training data has\", y_class_train.shape[0],\"sequences.\")\n",
    "print(\"\\nThe validation data has\", y_class_val.shape[0],\"sequences.\")\n",
    "\n",
    "# Check for nans in the training dataset\n",
    "y_reg_train_nans = np.isnan(y_reg_train).any()\n",
    "print(\"y_regression_train Missing values:\", y_reg_train_nans)\n",
    "y_class_train_nans = np.isnan(y_class_train).any()\n",
    "print(\"y_classification_train Missing values:\", y_class_train_nans)\n",
    "\n",
    "# Check for nans in the validation dataset\n",
    "y_reg_val_nans = np.isnan(y_reg_val).any()\n",
    "print(\"y_regression_validation Missing values:\", y_reg_val_nans)\n",
    "y_class_val_nans = np.isnan(y_class_val).any()\n",
    "print(\"y_classification_validation Missing values:\", y_class_val_nans)\n",
    "\n",
    "# check the number of unique classification labels\n",
    "number_classes_train = np.unique(y_class_train)\n",
    "print(\"\\nAll classification labels in the training dataset:\", number_classes_train)\n",
    "\n",
    "number_classes_val = np.unique(y_class_train)\n",
    "print(\"\\nAll classification labels in the validation dataset:\", number_classes_val)"
   ]
  },
  {
   "cell_type": "markdown",
   "id": "e9251bd4",
   "metadata": {},
   "source": [
    "Construct the classifier, train the model, and assess the training performance. "
   ]
  },
  {
   "cell_type": "code",
   "execution_count": null,
   "id": "f2f4136e",
   "metadata": {},
   "outputs": [],
   "source": [
    "# Reset states generated by Keras\n",
    "tf.keras.backend.clear_session()"
   ]
  },
  {
   "cell_type": "code",
   "execution_count": null,
   "id": "ed8a3130",
   "metadata": {},
   "outputs": [],
   "source": [
    "# Classification Model\n",
    "\n",
    "# input layer\n",
    "inputs = Input(shape=y_reg_train.shape[1])\n",
    "\n",
    "hidden = Dense(16, activation=\"relu\")(inputs)\n",
    "hidden = Dense(16, activation=\"relu\")(hidden)\n",
    "\n",
    "# output layer\n",
    "outputs = Dense(len(number_classes_train), activation='softmax', name=\"classification_output\")(hidden)\n",
    "\n",
    "# define the Model\n",
    "model = Model(inputs=inputs, outputs=outputs)\n",
    "model.summary()"
   ]
  },
  {
   "cell_type": "code",
   "execution_count": null,
   "id": "36d699ac",
   "metadata": {},
   "outputs": [],
   "source": [
    "# Set training parameters for the classifier\n",
    "batch_size = 256\n",
    "optimizer = Adam(lr=1e-3)\n",
    "loss = 'sparse_categorical_crossentropy'\n",
    "metrics = 'acc'\n",
    "early_stop = tf.keras.callbacks.EarlyStopping(monitor='val_loss',\n",
    "                                        patience=10, verbose=1, restore_best_weights=True)\n",
    "\n",
    "model.compile(loss=loss, optimizer=optimizer, metrics=metrics)"
   ]
  },
  {
   "cell_type": "code",
   "execution_count": null,
   "id": "35901531",
   "metadata": {},
   "outputs": [],
   "source": [
    "# Train the classification model\n",
    "history = model.fit(y_reg_train, y_class_train,\n",
    "                    validation_data=(y_reg_val, y_class_val),\n",
    "                    batch_size=batch_size,\n",
    "                    shuffle=True,\n",
    "                    epochs=200,\n",
    "                    verbose=1,\n",
    "                    callbacks=[early_stop])"
   ]
  },
  {
   "cell_type": "code",
   "execution_count": null,
   "id": "5cfb57f3",
   "metadata": {},
   "outputs": [],
   "source": [
    "# Get training accuracy \n",
    "val_acc = history.history['val_acc']\n",
    "acc = history.history['acc']\n",
    "\n",
    "# Obtain number of epochs\n",
    "epochs = range(len(acc))\n",
    "\n",
    "# Plot loss and val loss\n",
    "plt.plot(val_acc[0:], label='validation_accuracy')\n",
    "plt.plot(acc[0:], label='training_accuracy')\n",
    "plt.legend()\n",
    "plt.title('Training Performance')\n",
    "plt.xlabel('Epochs')\n",
    "plt.ylabel('Accuracy')\n",
    "plt.show()"
   ]
  },
  {
   "cell_type": "code",
   "execution_count": null,
   "id": "8ffde1b7",
   "metadata": {},
   "outputs": [],
   "source": [
    "# Save model\n",
    "model.save(\"../Models/Classifier\")"
   ]
  }
 ],
 "metadata": {
  "interpreter": {
   "hash": "7d080166881b4e54330c01c7c798464d68da1aa03721536117721113f4213136"
  },
  "kernelspec": {
   "display_name": "Python 3.7.7 64-bit",
   "language": "python",
   "name": "python3"
  },
  "language_info": {
   "codemirror_mode": {
    "name": "ipython",
    "version": 3
   },
   "file_extension": ".py",
   "mimetype": "text/x-python",
   "name": "python",
   "nbconvert_exporter": "python",
   "pygments_lexer": "ipython3",
   "version": "3.7.7"
  },
  "vscode": {
   "interpreter": {
    "hash": "00d3cb7e298ecc8950ac69171eabeda5a9d90f66e167cf3ccb0bd870eaf61020"
   }
  }
 },
 "nbformat": 4,
 "nbformat_minor": 5
}
